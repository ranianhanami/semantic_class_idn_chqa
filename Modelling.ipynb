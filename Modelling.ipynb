{
  "cells": [
    {
      "cell_type": "markdown",
      "metadata": {
        "id": "NhKFhT60DD9c"
      },
      "source": [
        "# Install Library"
      ]
    },
    {
      "cell_type": "code",
      "execution_count": null,
      "metadata": {
        "id": "Vm2yr5aiDFA7"
      },
      "outputs": [],
      "source": [
        "!pip install PySastrawi\n",
        "!pip install catboost\n",
        "!pip install -qq transformers\n",
        "!pip install -U imbalanced-learn"
      ]
    },
    {
      "cell_type": "code",
      "execution_count": null,
      "metadata": {
        "id": "x7BSR_X5ks1Y"
      },
      "outputs": [],
      "source": [
        "!pip install numpy requests nlpaug wget\n",
        "!pip install --upgrade --no-cache-dir gdown\n",
        "!pip install sentence-transformers"
      ]
    },
    {
      "cell_type": "markdown",
      "metadata": {
        "id": "4vOV_db1C4QS"
      },
      "source": [
        "# Import Library"
      ]
    },
    {
      "cell_type": "code",
      "execution_count": null,
      "metadata": {
        "id": "EHdaCgnEC0sB"
      },
      "outputs": [],
      "source": [
        "import pandas as pd\n",
        "import numpy as np\n",
        "import matplotlib.pyplot as plt\n",
        "import re"
      ]
    },
    {
      "cell_type": "code",
      "execution_count": null,
      "metadata": {
        "id": "_IJMn5y0C5RV"
      },
      "outputs": [],
      "source": [
        "import nltk\n",
        "nltk.download('punkt')\n",
        "from nltk.tokenize import word_tokenize\n",
        "from nltk.corpus import stopwords\n",
        "from Sastrawi.Stemmer.StemmerFactory import StemmerFactory\n",
        "\n",
        "factory = StemmerFactory()\n",
        "stemmer = factory.create_stemmer()"
      ]
    },
    {
      "cell_type": "code",
      "execution_count": null,
      "metadata": {
        "id": "DE00Vfyp6uC8"
      },
      "outputs": [],
      "source": [
        "import sklearn\n",
        "from sklearn.model_selection import train_test_split\n",
        "from sklearn.metrics import confusion_matrix, classification_report"
      ]
    },
    {
      "cell_type": "code",
      "execution_count": null,
      "metadata": {
        "id": "BgNxc1ZRyh42"
      },
      "outputs": [],
      "source": [
        "from imblearn.over_sampling import SMOTE, ADASYN, BorderlineSMOTE"
      ]
    },
    {
      "cell_type": "code",
      "execution_count": null,
      "metadata": {
        "id": "S9DUGznS6SYZ"
      },
      "outputs": [],
      "source": [
        "import xgboost as xgb\n",
        "from sklearn.naive_bayes import MultinomialNB\n",
        "from sklearn.tree import DecisionTreeClassifier\n",
        "from sklearn import svm\n",
        "from sklearn.linear_model import Perceptron\n",
        "from sklearn.neural_network import MLPClassifier"
      ]
    },
    {
      "cell_type": "code",
      "execution_count": null,
      "metadata": {
        "id": "j_hcjyxm86Ad"
      },
      "outputs": [],
      "source": [
        "import random\n",
        "\n",
        "import torch\n",
        "import torch.nn.functional as F\n",
        "import torch.nn as nn\n",
        "\n",
        "from transformers import AutoTokenizer, AutoModel, get_constant_schedule_with_warmup\n",
        "from transformers import TrainingArguments, Trainer, AutoConfig\n",
        "from torch.utils.data import TensorDataset, DataLoader, RandomSampler, SequentialSampler"
      ]
    },
    {
      "cell_type": "code",
      "execution_count": null,
      "metadata": {
        "colab": {
          "base_uri": "https://localhost:8080/"
        },
        "id": "hveSlVgv9PI7",
        "outputId": "9cfbc217-027d-4078-d934-adac15dd202b"
      },
      "outputs": [
        {
          "data": {
            "text/plain": [
              "<torch._C.Generator at 0x7f2ee6b32530>"
            ]
          },
          "execution_count": 9,
          "metadata": {},
          "output_type": "execute_result"
        }
      ],
      "source": [
        "seed_val = 2023\n",
        "random.seed(seed_val)\n",
        "np.random.seed(seed_val)\n",
        "torch.manual_seed(seed_val)"
      ]
    },
    {
      "cell_type": "code",
      "execution_count": null,
      "metadata": {
        "id": "e6hg4QsL9Uds"
      },
      "outputs": [],
      "source": [
        "if torch.cuda.is_available():\n",
        "  torch.cuda.manual_seed_all(seed_val)"
      ]
    },
    {
      "cell_type": "code",
      "execution_count": null,
      "metadata": {
        "colab": {
          "base_uri": "https://localhost:8080/"
        },
        "id": "gw9pbISV9Ww6",
        "outputId": "67ee6475-f9d1-4a55-8a39-e061996a82a3"
      },
      "outputs": [
        {
          "name": "stdout",
          "output_type": "stream",
          "text": [
            "Tersedia sejumlah 1 GPU(s).\n",
            "GPU yang akan digunakan: Tesla T4\n"
          ]
        }
      ],
      "source": [
        "if torch.cuda.is_available():\n",
        "\n",
        "    device = torch.device(\"cuda:0\")\n",
        "    print('Tersedia sejumlah %d GPU(s).' % torch.cuda.device_count())\n",
        "    print('GPU yang akan digunakan:', torch.cuda.get_device_name(0))\n",
        "else:\n",
        "    print('Tidak mendukung GPU; hanya CPU')\n",
        "    device = torch.device(\"cpu\")"
      ]
    },
    {
      "cell_type": "code",
      "execution_count": null,
      "metadata": {
        "colab": {
          "base_uri": "https://localhost:8080/"
        },
        "id": "G8dFa26pkw4e",
        "outputId": "d530a0d7-b87f-4199-9a37-7a9961c17985"
      },
      "outputs": [
        {
          "name": "stdout",
          "output_type": "stream",
          "text": [
            "Cloning into 'nlpaug'...\n",
            "remote: Enumerating objects: 5828, done.\u001b[K\n",
            "remote: Counting objects: 100% (1355/1355), done.\u001b[K\n",
            "remote: Compressing objects: 100% (443/443), done.\u001b[K\n",
            "remote: Total 5828 (delta 965), reused 1247 (delta 902), pack-reused 4473\u001b[K\n",
            "Receiving objects: 100% (5828/5828), 3.31 MiB | 6.67 MiB/s, done.\n",
            "Resolving deltas: 100% (4127/4127), done.\n"
          ]
        }
      ],
      "source": [
        "import os\n",
        "!git clone https://github.com/makcedward/nlpaug.git\n",
        "os.environ[\"MODEL_DIR\"] = '../model'"
      ]
    },
    {
      "cell_type": "code",
      "execution_count": null,
      "metadata": {
        "id": "4XTc7pi7k04V"
      },
      "outputs": [],
      "source": [
        "import nlpaug.augmenter.char as nac\n",
        "import nlpaug.augmenter.word as naw\n",
        "import nlpaug.augmenter.sentence as nas\n",
        "import nlpaug.flow as nafc\n",
        "\n",
        "from nlpaug.util import Action\n",
        "from gensim.models.fasttext import FastText\n",
        "from sklearn.metrics.pairwise import cosine_similarity\n",
        "from sklearn.feature_extraction.text import CountVectorizer"
      ]
    },
    {
      "cell_type": "code",
      "execution_count": null,
      "metadata": {
        "id": "oeiOv8LxVN7B"
      },
      "outputs": [],
      "source": [
        "from imblearn.over_sampling import ADASYN, BorderlineSMOTE"
      ]
    },
    {
      "cell_type": "markdown",
      "metadata": {
        "id": "wqFZ0xNRDIrB"
      },
      "source": [
        "# Import Dataset"
      ]
    },
    {
      "cell_type": "markdown",
      "metadata": {
        "id": "glCZDuRdDK4T"
      },
      "source": [
        "## Download dataset"
      ]
    },
    {
      "cell_type": "code",
      "execution_count": null,
      "metadata": {
        "id": "UKyRDfVIDKBK"
      },
      "outputs": [],
      "source": [
        "!gdown --id \"1HkCJzto0j5VN-Fg5WxVLAbVPDIu8QAfX\"\n",
        "!gdown --id \"1um6RmGbv1Tz3pMGx7RCh-nuV_MOWURcQ\""
      ]
    },
    {
      "cell_type": "markdown",
      "metadata": {
        "id": "8hC8EeRRDQ57"
      },
      "source": [
        "## Transform to dataframe"
      ]
    },
    {
      "cell_type": "code",
      "execution_count": null,
      "metadata": {
        "id": "GXYwnLX_DV9h"
      },
      "outputs": [],
      "source": [
        "doc_df = pd.read_csv('/content/anotasi_non_expert_dan_expert.csv', delimiter=\",\",index_col=False)"
      ]
    },
    {
      "cell_type": "code",
      "execution_count": null,
      "metadata": {
        "id": "X7dQMMGDQPIy"
      },
      "outputs": [],
      "source": [
        "doc_df = doc_df[(doc_df['Category']!=np.nan) & (doc_df['Expert']!='OtherEffect')]\n",
        "doc_df.reset_index(inplace=True, drop=True)"
      ]
    },
    {
      "cell_type": "code",
      "execution_count": null,
      "metadata": {
        "id": "GKpX8xlAeo5B"
      },
      "outputs": [],
      "source": [
        "unlabelled_df = pd.read_csv('/content/unlabelled.csv')\n",
        "unlabelled_df = unlabelled_df[unlabelled_df['Category'] == 'Question'][['Sentence']]"
      ]
    },
    {
      "cell_type": "markdown",
      "metadata": {
        "id": "pN0Andmzrdpr"
      },
      "source": [
        "# Stopwords"
      ]
    },
    {
      "cell_type": "code",
      "execution_count": null,
      "metadata": {
        "id": "a4R1KXmHrfi7"
      },
      "outputs": [],
      "source": [
        "def get_stopwords(df_used):\n",
        "  dict_med_words = {}\n",
        "\n",
        "  for i in range(df_used.shape[0]):\n",
        "    sentence = df_used['Sentence'][i]\n",
        "    res = re.sub(\"\\d\", \"\", str(sentence))\n",
        "    res = re.sub(\"\\s+\", \" \", res.lower())\n",
        "    res = re.sub(\"[^\\w\\s]\", \"\", res)\n",
        "\n",
        "    try:\n",
        "      words = word_tokenize(res)\n",
        "      for word in words:\n",
        "        if word not in dict_med_words.keys():\n",
        "          dict_med_words[word] = 1\n",
        "        else:\n",
        "          dict_med_words[word] += 1\n",
        "    except:\n",
        "      pass\n",
        "\n",
        "  five_percent = round(len(dict_med_words.keys()) * 0.05)\n",
        "\n",
        "  top_5 = dict(sorted(dict_med_words.items(), key=lambda x:x[1], reverse=True)[:five_percent]).keys()\n",
        "  bot_5 = dict(sorted(dict_med_words.items(), key=lambda x:x[1])[:five_percent]).keys()\n",
        "  med_stopwords = []\n",
        "\n",
        "  med_stopwords.extend(top_5)\n",
        "  med_stopwords.extend(bot_5)\n",
        "\n",
        "  return med_stopwords"
      ]
    },
    {
      "cell_type": "code",
      "execution_count": null,
      "metadata": {
        "id": "C4sjNi0urkU7"
      },
      "outputs": [],
      "source": [
        "med_stopwords = get_stopwords(doc_df)"
      ]
    },
    {
      "cell_type": "markdown",
      "metadata": {
        "id": "evf0NkIcDcXZ"
      },
      "source": [
        "# Pre-processing"
      ]
    },
    {
      "cell_type": "code",
      "execution_count": null,
      "metadata": {
        "id": "WN6Sa0lk8ciY"
      },
      "outputs": [],
      "source": [
        "labels = doc_df['Expert'].unique()[1:]\n",
        "map_name_id = {class_name:id for id, class_name in enumerate(labels)}"
      ]
    },
    {
      "cell_type": "code",
      "execution_count": null,
      "metadata": {
        "colab": {
          "base_uri": "https://localhost:8080/"
        },
        "id": "_GBuZW0eLv-y",
        "outputId": "c9b0af1b-b46f-4f9c-a2b1-eb7e65bcb538"
      },
      "outputs": [
        {
          "data": {
            "text/plain": [
              "{'Information': 0,\n",
              " 'Cause': 1,\n",
              " 'Management': 2,\n",
              " 'Diagnosis': 3,\n",
              " 'PersonORG': 4,\n",
              " 'Manifestation': 5,\n",
              " 'Complication': 6,\n",
              " 'Prognosis': 7,\n",
              " 'Susceptibility': 8,\n",
              " 'NotDisease': 9,\n",
              " 'Anatomy': 10,\n",
              " 'Other': 11}"
            ]
          },
          "execution_count": 22,
          "metadata": {},
          "output_type": "execute_result"
        }
      ],
      "source": [
        "map_name_id"
      ]
    },
    {
      "cell_type": "code",
      "execution_count": null,
      "metadata": {
        "id": "Na1Q_XgzmwoQ"
      },
      "outputs": [],
      "source": [
        "bias_words = [\"sinusitis\", \"kanker\", \"panu\", \"hepatitis\", \"wasir\", \"tumor\", \"jerawat\", \"kista\", \"demam\", \"hernia\", \"vertigo\"]"
      ]
    },
    {
      "cell_type": "code",
      "execution_count": null,
      "metadata": {
        "id": "wYTyOONxDXQS"
      },
      "outputs": [],
      "source": [
        "def pre_processing(x, stem=False):\n",
        "  res = re.sub(\"\\d\", \"\", str(x))\n",
        "  res = re.sub(\"\\s+\", \" \", res)\n",
        "  res = re.sub(\"[^\\w\\s]\", \"\", res)\n",
        "  res = res.lower()\n",
        "  if(stem):\n",
        "    tokens = word_tokenize(res)\n",
        "    temp = \"\"\n",
        "    for i in tokens:\n",
        "      if(i not in med_stopwords):\n",
        "        temp += \" \" + stemmer.stem(i.lower().strip())\n",
        "    res = temp\n",
        "  return res"
      ]
    },
    {
      "cell_type": "code",
      "execution_count": null,
      "metadata": {
        "id": "Yiavyqy2Dvfo"
      },
      "outputs": [],
      "source": [
        "doc_df['Sentence'] = doc_df['Sentence'].apply(pre_processing)"
      ]
    },
    {
      "cell_type": "code",
      "execution_count": null,
      "metadata": {
        "colab": {
          "base_uri": "https://localhost:8080/"
        },
        "id": "-FWBLuk46vjk",
        "outputId": "2ed8e946-0b73-4ad1-f76b-c37182489b8a"
      },
      "outputs": [
        {
          "data": {
            "text/plain": [
              "Management        226\n",
              "Diagnosis         223\n",
              "Information       170\n",
              "Cause             117\n",
              "Complication       74\n",
              "Prognosis          73\n",
              "Manifestation      27\n",
              "PersonORG          17\n",
              "Susceptibility     12\n",
              "NotDisease         10\n",
              "Other               7\n",
              "Anatomy             5\n",
              "Name: Expert, dtype: int64"
            ]
          },
          "execution_count": 26,
          "metadata": {},
          "output_type": "execute_result"
        }
      ],
      "source": [
        "doc_df['Expert'].value_counts()"
      ]
    },
    {
      "cell_type": "markdown",
      "metadata": {
        "id": "qVHhS6OeEOQv"
      },
      "source": [
        "# Modelling"
      ]
    },
    {
      "cell_type": "markdown",
      "metadata": {
        "id": "1thnRLAhxV6K"
      },
      "source": [
        "## Function"
      ]
    },
    {
      "cell_type": "markdown",
      "metadata": {
        "id": "p7KzzSJVVtsZ"
      },
      "source": [
        "### Oversampling"
      ]
    },
    {
      "cell_type": "code",
      "execution_count": null,
      "metadata": {
        "id": "7r41rNUAViaq"
      },
      "outputs": [],
      "source": [
        "dict_label_words = {\n",
        "    'Management': ['obat','solusi','saran','atas', 'operasi','hilang'],\n",
        "    'Diagnosis' : ['derita','gangguan','sebenarnya','wajar'],\n",
        "    'Information': ['boleh', 'formula','program'],\n",
        "    'Prognosis': ['sembuh','berapa','bisakah'],\n",
        "    'Cause': ['sebab', 'faktor','kok'],\n",
        "    'Susceptibility': ['kemungkinan'],\n",
        "    'Anatomy': ['bagian','tubuh'],\n",
        "    'Manifestation': ['ciriciri'],\n",
        "    'PersonORG': ['spesialis', 'periksa','baik'],\n",
        "    'Complication' : ['efek',  'bahaya'],\n",
        "    'NotDisease' : [''],\n",
        "    'Other': ['biaya', 'harga', 'taksir']\n",
        "}"
      ]
    },
    {
      "cell_type": "code",
      "execution_count": null,
      "metadata": {
        "id": "3LcTOZJCVjNg"
      },
      "outputs": [],
      "source": [
        "def oversampling_augmentation(df, states):\n",
        "  MAX_VALUE = df['Expert'].value_counts()[0]\n",
        "  dict_label_count = df['Expert'].value_counts()[1:].to_dict()\n",
        "\n",
        "  for k,v in dict_label_count.items():\n",
        "    TO_ADD = MAX_VALUE - v\n",
        "    try:\n",
        "      dict_label_count[k] = TO_ADD\n",
        "      df_temp = keyword_oversampling(k, dict_label_words[k])\n",
        "      df_temp = df_temp.sample(n = TO_ADD, random_state=states)\n",
        "      df = pd.concat([df, df_temp], ignore_index=True)\n",
        "    except:\n",
        "      pass\n",
        "\n",
        "\n",
        "  return df"
      ]
    },
    {
      "cell_type": "code",
      "execution_count": null,
      "metadata": {
        "id": "4nfRSoMrVkid"
      },
      "outputs": [],
      "source": [
        "def keyword_oversampling(class_name, words):\n",
        "  df_word = pd.DataFrame(columns=['Sentence','Expert'])\n",
        "\n",
        "  for data in unlabelled_df['Sentence']:\n",
        "    tokenized = word_tokenize(data)\n",
        "    for token in tokenized:\n",
        "      if(token in words):\n",
        "        for k, v in dict_label_words.items():\n",
        "          if(k != class_name):\n",
        "            if(token not in v):\n",
        "              if data not in df_word['Sentence'].values:\n",
        "                tokenized = word_tokenize(data)\n",
        "                temp = \"\"\n",
        "                for i in tokenized:\n",
        "                  temp+= stemmer.stem(i)\n",
        "                df_temp  = pd.DataFrame({\n",
        "                    'Sentence': [temp],\n",
        "                    'Expert': [map_name_id[class_name]]\n",
        "                })\n",
        "                df_word = pd.concat([df_word, df_temp], ignore_index=True)\n",
        "  return df_word"
      ]
    },
    {
      "cell_type": "code",
      "execution_count": null,
      "metadata": {
        "id": "sZRE8f9OVyBV"
      },
      "outputs": [],
      "source": [
        "def pseudolabelling_oversampling(df, vectorizer):\n",
        "  if('Management' in df['Expert'].unique()):\n",
        "    df['Expert'] = [map_name_id[class_name] for class_name in df['Expert'].values]\n",
        "\n",
        "  X = df['Sentence']\n",
        "  y = df['Expert']\n",
        "\n",
        "  X_vectors = vectorizer.transform(X.tolist())\n",
        "\n",
        "  model = Perceptron(max_iter=300)\n",
        "  model.fit(X_vectors, y)\n",
        "\n",
        "  X_test = unlabelled_df['Sentence'].values\n",
        "  X_test_vectors = vectorizer.transform(X_test)\n",
        "\n",
        "  y_pred = model.predict(X_test_vectors)\n",
        "\n",
        "  MAX_VALUE = df['Expert'].value_counts()[0]\n",
        "  dict_label_to_add = df['Expert'].value_counts()[1:].to_dict()\n",
        "\n",
        "  dict_label_count = dict.fromkeys(map_name_id.keys(), 0)\n",
        "  df_word = pd.DataFrame(columns=['Sentence','Expert'])\n",
        "\n",
        "  for k,v in dict_label_to_add.items():\n",
        "    TO_ADD = MAX_VALUE - v\n",
        "    dict_label_to_add[k] = TO_ADD\n",
        "\n",
        "  for i in range(len(y_pred)):\n",
        "    label = y_pred[i]\n",
        "    try:\n",
        "      if(dict_label_count[label] < dict_label_to_add[label]):\n",
        "        df_temp = pd.DataFrame({\n",
        "            'Sentence': [X_test[i]],\n",
        "            'Expert': [label]\n",
        "        })\n",
        "        df_word = pd.concat([df_word, df_temp], ignore_index=True)\n",
        "        dict_label_count[label] += 1\n",
        "    except:\n",
        "      pass\n",
        "\n",
        "  df = pd.concat([df, df_word], ignore_index=True)\n",
        "\n",
        "  return df"
      ]
    },
    {
      "cell_type": "markdown",
      "metadata": {
        "id": "CC-mgQrkBogk"
      },
      "source": [
        "### ML"
      ]
    },
    {
      "cell_type": "code",
      "execution_count": null,
      "metadata": {
        "id": "9t2z2UaxDeqp"
      },
      "outputs": [],
      "source": [
        "n_gram = {\n",
        "    (1,1): 'Unigram',\n",
        "    (2,2): 'Bigram',\n",
        "    (1,2): 'Kombinasi'\n",
        "}\n",
        "\n",
        "metrics = ['Precision', 'Recall', 'F1']"
      ]
    },
    {
      "cell_type": "code",
      "execution_count": null,
      "metadata": {
        "id": "wUwE6eJBG5Q3"
      },
      "outputs": [],
      "source": [
        "def evaluate(report):\n",
        "  dict_res = {}\n",
        "\n",
        "  res = report.split('\\n\\n')[1].split('\\n')\n",
        "  for i in range(len(res)):\n",
        "    items = res[i].split(\" \")\n",
        "    items = list(filter(None, items))\n",
        "    dict_res[map_name_id[items[0]]] = list(map(float,items[1:]))\n",
        "  res2 = report.split('\\n\\n')[2].split('\\n')\n",
        "  for i in range(len(res2)-1):\n",
        "    items = res2[i].split(\"  \")\n",
        "    items = list(filter(None, items))\n",
        "    dict_res[items[0]] = list(map(float,items[1:-1]))\n",
        "  return dict_res"
      ]
    },
    {
      "cell_type": "code",
      "execution_count": null,
      "metadata": {
        "id": "wFNXT0Q8EP7M"
      },
      "outputs": [],
      "source": [
        "def train_ML(df_used, model,n, states, oversampling_smote, oversampling_pseudolabelling, augmentation):\n",
        "  dataset = df_used[['Sentence','Expert']]\n",
        "  y = df_used['Expert']\n",
        "  dataset['Expert'] = [map_name_id[class_name] for class_name in y.values]\n",
        "\n",
        "  dict_scores = {}\n",
        "  dict_avg = {}\n",
        "  dict_stds = {}\n",
        "\n",
        "  dict_final = {}\n",
        "  dict_all_result = {}\n",
        "  vectorizer = sklearn.feature_extraction.text.TfidfVectorizer(lowercase=True, ngram_range=(1,1))\n",
        "  vectorizer.fit(dataset['Sentence'])\n",
        "\n",
        "  for i in range(n):\n",
        "    if(oversampling_smote):\n",
        "      train, val = train_test_split(dataset, test_size=0.3, stratify=y, random_state=states[i])\n",
        "      #smote = SMOTE(random_state=states[i],  k_neighbors=2)\n",
        "\n",
        "      #smote = ADASYN(random_state=states[i], n_neighbors=2, sampling_strategy='minority')\n",
        "      smote = BorderlineSMOTE(random_state=states[i], k_neighbors=2)\n",
        "      X_train_vectors = vectorizer.transform(train['Sentence'])\n",
        "      X_test_vectors = vectorizer.transform(val['Sentence'])\n",
        "      X_test, y_test = X_test_vectors, val['Expert']\n",
        "\n",
        "      X_train, y_train = smote.fit_resample(X_train_vectors, train['Expert'])\n",
        "    elif(oversampling_pseudolabelling):\n",
        "      train, val = train_test_split(dataset, test_size=0.3, stratify=y, random_state=states[i])\n",
        "      train = pseudolabelling_oversampling(train, vectorizer)\n",
        "      X_train = vectorizer.transform(train['Sentence'].tolist())\n",
        "      y_train = list(train['Expert'])\n",
        "      X_test_vectors = vectorizer.transform(val['Sentence'])\n",
        "      X_test, y_test = X_test_vectors, val['Expert']\n",
        "    elif(augmentation):\n",
        "      train, val = train_test_split(dataset, test_size=0.3, stratify=y, random_state=states[i])\n",
        "      idx = train.shape[0]\n",
        "      train = oversampling_augmentation(train, states[i])\n",
        "\n",
        "      temp = pd.concat([train, val], ignore_index=True)\n",
        "      y_temp = temp['Expert'].values\n",
        "\n",
        "      X_vectors = vectorizer.transform(temp['Sentence'])\n",
        "      X_train, X_test, y_train, y_test = X_vectors[:idx], X_vectors[idx:], y_temp[:idx], y_temp[idx:]\n",
        "    elif(not oversampling_smote and not oversampling_pseudolabelling  and not augmentation):\n",
        "      X_vectors = vectorizer.transform(dataset['Sentence'])\n",
        "      y_mapped = [map_name_id[class_name] for class_name in y.values]\n",
        "      X_train, X_test, y_train, y_test = train_test_split(X_vectors, y_mapped, test_size=0.3, stratify=y, random_state=states[i])\n",
        "\n",
        "    model.fit(X_train, y_train)\n",
        "    y_pred = model.predict(X_test)\n",
        "\n",
        "    report = classification_report(y_test, y_pred, target_names=map_name_id.keys())\n",
        "\n",
        "    dict_all_result[i] = evaluate(report)\n",
        "\n",
        "    dict_std, dict_final = find_std(dict_all_result,n)\n",
        "\n",
        "    for i in dict_final:\n",
        "      temp = [j / n for j in dict_final[i]]\n",
        "      dict_final[i] = temp\n",
        "\n",
        "  dict_scores = dict_all_result\n",
        "  dict_avg = dict_final\n",
        "  dict_stds = dict_std\n",
        "\n",
        "  return dict_avg, dict_stds, dict_scores"
      ]
    },
    {
      "cell_type": "code",
      "execution_count": null,
      "metadata": {
        "id": "7XfMCJGxC3tB"
      },
      "outputs": [],
      "source": [
        "def model_ML(df_used, n, states, oversampling_smote=False, oversampling_pseudolabelling=False, augmentation=False):\n",
        "  dict_scores = {}\n",
        "  dict_std = {}\n",
        "  dict_avg = {}\n",
        "\n",
        "  xgb_model = xgb.XGBClassifier(objective=\"multi:softprob\")\n",
        "  xgb_res, std, scores = train_ML(df_used, xgb_model, n, states, oversampling_smote, oversampling_pseudolabelling, augmentation)\n",
        "  dict_std['XGBoost'] = std\n",
        "  dict_avg['XGBoost'] = xgb_res\n",
        "  dict_scores['XGBoost'] = scores\n",
        "\n",
        "  mnb = MultinomialNB()\n",
        "  mnb_res, std, scores= train_ML(df_used, mnb, n, states, oversampling_smote, oversampling_pseudolabelling, augmentation)\n",
        "  dict_scores['Naive Bayes'] = scores\n",
        "  dict_std['Naive Bayes'] = std\n",
        "  dict_avg['Naive Bayes'] = mnb_res\n",
        "\n",
        "\n",
        "  dtree_model = DecisionTreeClassifier(max_depth = 20)\n",
        "  dtree_res, std, scores = train_ML(df_used, dtree_model,n,states, oversampling_smote, oversampling_pseudolabelling,augmentation)\n",
        "  dict_std['Decision Tree'] = std\n",
        "  dict_avg['Decision Tree'] = dtree_res\n",
        "  dict_scores['Decision Tree'] = scores\n",
        "\n",
        "  pcp = Perceptron(max_iter=300)\n",
        "  pcp_res, std, scores = train_ML(df_used, pcp, n, states, oversampling_smote, oversampling_pseudolabelling, augmentation)\n",
        "  dict_std['Perceptron'] = std\n",
        "  dict_avg['Perceptron'] = pcp_res\n",
        "  dict_scores['Perceptron'] = scores\n",
        "\n",
        "\n",
        "  mlp = MLPClassifier(hidden_layer_sizes=2, activation='relu', solver='adam', max_iter=300, learning_rate='invscaling')\n",
        "  mlp_res, std, scores = train_ML(df_used, mlp, n, states, oversampling_smote, oversampling_pseudolabelling, augmentation)\n",
        "  dict_std['MLP'] = std\n",
        "  dict_avg['MLP'] = mlp_res\n",
        "  dict_scores['MLP'] = scores\n",
        "\n",
        "\n",
        "  svm_model = svm.SVC(kernel='poly', degree=3, C=1)\n",
        "  svm_res, std, scores = train_ML(df_used, svm_model, n, states, oversampling_smote, oversampling_pseudolabelling, augmentation)\n",
        "  dict_std['SVM'] = std\n",
        "  dict_avg['SVM'] = svm_res\n",
        "  dict_scores['SVM'] = scores\n",
        "\n",
        "  return dict_avg, dict_std, dict_scores"
      ]
    },
    {
      "cell_type": "code",
      "execution_count": null,
      "metadata": {
        "id": "YL0xq7PFc2vq"
      },
      "outputs": [],
      "source": [
        "def find_std(dict_all_result,n):\n",
        "  dict_std = {}\n",
        "  dict_avg = {}\n",
        "  for i in dict_all_result[0]:\n",
        "    res_temp = []\n",
        "    temp_avg = []\n",
        "    for k in range(3):\n",
        "      try:\n",
        "        temp = []\n",
        "        for j in range(n):\n",
        "          temp.append(dict_all_result[j][i][k])\n",
        "        std = np.std(temp)\n",
        "        mean = np.mean(temp)\n",
        "\n",
        "        temp_avg.append(round(mean,2))\n",
        "        res_temp.append(round(std,2))\n",
        "      except:\n",
        "        pass\n",
        "    dict_avg[i] = temp_avg\n",
        "    dict_std[i] = res_temp\n",
        "  return dict_std, dict_avg"
      ]
    },
    {
      "cell_type": "code",
      "execution_count": null,
      "metadata": {
        "id": "erjpG1i9RkDP"
      },
      "outputs": [],
      "source": [
        "def table_visualization(dict_avg,dict_std,n, m):\n",
        "  df = pd.DataFrame(columns=['Label', 'XGBoost', 'Naive Bayes', 'Perceptron', 'MLP', 'Decision Tree', 'SVM'])\n",
        "  for i in dict_avg:\n",
        "    res = []\n",
        "    model_score = dict_avg[i][n]\n",
        "    std = dict_std[i][n]\n",
        "    for j in model_score:\n",
        "      if(j !='accuracy' and j!=' macro avg'):\n",
        "        v = model_score[j][m]\n",
        "        s = std[j][m]\n",
        "\n",
        "        res.append(f\"{round(v,2):.2f} +- {round(s,2):.2f}\")\n",
        "    df[i] = res\n",
        "  df['Label'] = list(map_name_id.keys()) + list(['Weighted Average'])\n",
        "  return df"
      ]
    },
    {
      "cell_type": "code",
      "execution_count": null,
      "metadata": {
        "id": "pXvmeUpZRkWj"
      },
      "outputs": [],
      "source": [
        "def convert_to_latex(df, title,n):\n",
        "  res = '''\n",
        "  {\n",
        "  \\scriptsize\n",
        "  \\\\begin{longtable}{c c c c c c c c}\n",
        "  '''\n",
        "  res +=  \"\\caption{\\\\bo{Eksperimen 1}: Skor F1 dengan faktor pembobot \" + n.lower() + \" dan tanpa \\\\f{oversampling} untuk \\\\f{input} 1}\"\n",
        "  res += \"\\label{tab:\" + title +\"} \\\\\\\\\"\n",
        "  res += '''\n",
        "      \\hline\n",
        "    \\\\bo{Label} & \\\\bo{XGBoost} & \\\\bo{Naive Bayes} & \\\\bo{Perceptron} & \\\\bo{MLP} & \\\\bo{Decision Tree} & \\\\bo{SVM} \\\\\\\\ \\hline\n",
        "  '''\n",
        "  for i in df.index:\n",
        "    temp = df.loc[i]\n",
        "    if(i!=12):\n",
        "      res += temp['Label'].upper() + ' & ' + temp['XGBoost'].replace('+-','$\\pm$') + ' & ' + temp['Naive Bayes'].replace('+-','$\\pm$') + ' & ' + temp['Perceptron'].replace('+-','$\\pm$') + ' & ' +  temp['MLP'].replace('+-','$\\pm$')  + ' & ' +  temp['Decision Tree'].replace('+-','$\\pm$')  + ' & ' +  temp['SVM'].replace('+-','$\\pm$') + '\\\\\\\\ \\n'\n",
        "    else:\n",
        "      res += '\\hline \\\\f{' + temp['Label'] + '} & ' + temp['XGBoost'].replace('+-','$\\pm$') + ' & ' + temp['Naive Bayes'].replace('+-','$\\pm$') + ' & ' + temp['Perceptron'].replace('+-','$\\pm$') + ' & ' +  temp['MLP'].replace('+-','$\\pm$')  + ' & ' +  temp['Decision Tree'].replace('+-','$\\pm$')  + ' & ' +  temp['SVM'].replace('+-','$\\pm$') + '\\\\\\\\ \\hline \\n \\end{longtable} \\n}'\n",
        "  files = open(f'{title}.tex', 'w')\n",
        "  y = files.write(res)\n",
        "  files.close()\n",
        "  return res"
      ]
    },
    {
      "cell_type": "markdown",
      "metadata": {
        "id": "BZJahGs-Bpqs"
      },
      "source": [
        "### BERT"
      ]
    },
    {
      "cell_type": "code",
      "execution_count": null,
      "metadata": {
        "colab": {
          "base_uri": "https://localhost:8080/",
          "height": 630,
          "referenced_widgets": [
            "fe3d07c072f44137a3d7ec8ab9c5cb78",
            "842562a41905488c8ca5e3ca204569e9",
            "b8b98525b3c147fa8a3e9948a83723b1",
            "d77181fbf51f4bd6950734fc3542962f",
            "918b44013a5b436db9d74d5d5543e9ea",
            "cfefb75b46e443f68d08c1a1ad7e5f6c"
          ]
        },
        "id": "OJTJaWy49eVi",
        "outputId": "0b2d7b36-5dd9-427f-a637-06ab4c4135ac"
      },
      "outputs": [
        {
          "data": {
            "application/vnd.jupyter.widget-view+json": {
              "model_id": "fe3d07c072f44137a3d7ec8ab9c5cb78",
              "version_major": 2,
              "version_minor": 0
            },
            "text/plain": [
              "Downloading (…)lve/main/config.json:   0%|          | 0.00/1.11k [00:00<?, ?B/s]"
            ]
          },
          "metadata": {},
          "output_type": "display_data"
        },
        {
          "data": {
            "application/vnd.jupyter.widget-view+json": {
              "model_id": "842562a41905488c8ca5e3ca204569e9",
              "version_major": 2,
              "version_minor": 0
            },
            "text/plain": [
              "Downloading pytorch_model.bin:   0%|          | 0.00/498M [00:00<?, ?B/s]"
            ]
          },
          "metadata": {},
          "output_type": "display_data"
        },
        {
          "name": "stderr",
          "output_type": "stream",
          "text": [
            "Some weights of the model checkpoint at stevenwh/indobert-base-p2-finetuned-mer-80k were not used when initializing BertModel: ['cls.predictions.transform.LayerNorm.weight', 'cls.predictions.bias', 'cls.predictions.decoder.weight', 'cls.predictions.transform.LayerNorm.bias', 'cls.predictions.transform.dense.weight', 'cls.predictions.decoder.bias', 'cls.predictions.transform.dense.bias']\n",
            "- This IS expected if you are initializing BertModel from the checkpoint of a model trained on another task or with another architecture (e.g. initializing a BertForSequenceClassification model from a BertForPreTraining model).\n",
            "- This IS NOT expected if you are initializing BertModel from the checkpoint of a model that you expect to be exactly identical (initializing a BertForSequenceClassification model from a BertForSequenceClassification model).\n",
            "Some weights of BertModel were not initialized from the model checkpoint at stevenwh/indobert-base-p2-finetuned-mer-80k and are newly initialized: ['bert.pooler.dense.bias', 'bert.pooler.dense.weight']\n",
            "You should probably TRAIN this model on a down-stream task to be able to use it for predictions and inference.\n"
          ]
        },
        {
          "data": {
            "application/vnd.jupyter.widget-view+json": {
              "model_id": "b8b98525b3c147fa8a3e9948a83723b1",
              "version_major": 2,
              "version_minor": 0
            },
            "text/plain": [
              "Downloading (…)okenizer_config.json:   0%|          | 0.00/527 [00:00<?, ?B/s]"
            ]
          },
          "metadata": {},
          "output_type": "display_data"
        },
        {
          "data": {
            "application/vnd.jupyter.widget-view+json": {
              "model_id": "d77181fbf51f4bd6950734fc3542962f",
              "version_major": 2,
              "version_minor": 0
            },
            "text/plain": [
              "Downloading (…)solve/main/vocab.txt:   0%|          | 0.00/229k [00:00<?, ?B/s]"
            ]
          },
          "metadata": {},
          "output_type": "display_data"
        },
        {
          "data": {
            "application/vnd.jupyter.widget-view+json": {
              "model_id": "918b44013a5b436db9d74d5d5543e9ea",
              "version_major": 2,
              "version_minor": 0
            },
            "text/plain": [
              "Downloading (…)/main/tokenizer.json:   0%|          | 0.00/709k [00:00<?, ?B/s]"
            ]
          },
          "metadata": {},
          "output_type": "display_data"
        },
        {
          "data": {
            "application/vnd.jupyter.widget-view+json": {
              "model_id": "cfefb75b46e443f68d08c1a1ad7e5f6c",
              "version_major": 2,
              "version_minor": 0
            },
            "text/plain": [
              "Downloading (…)cial_tokens_map.json:   0%|          | 0.00/125 [00:00<?, ?B/s]"
            ]
          },
          "metadata": {},
          "output_type": "display_data"
        }
      ],
      "source": [
        "#--------------------------------\n",
        "#  Some Parameters\n",
        "#--------------------------------\n",
        "MAX_SEQ_LENGTH = 64\n",
        "BATCH_SIZE = 32\n",
        "WARMUP_PROPORTION = 0.4\n",
        "MODEL_NAME = \"stevenwh/indobert-base-p2-finetuned-mer-80k\"\n",
        "LEARNING_RATE = 5e-4\n",
        "EPOCH = 10\n",
        "transformer = AutoModel.from_pretrained(MODEL_NAME)\n",
        "tokenizer = AutoTokenizer.from_pretrained(MODEL_NAME)"
      ]
    },
    {
      "cell_type": "code",
      "execution_count": null,
      "metadata": {
        "id": "1pCs-O1BSwq9"
      },
      "outputs": [],
      "source": [
        "def create_data_loader(instances, label_map):\n",
        "\n",
        "  input_ids = [] #list of token id\n",
        "  input_att_mask = [] #list od attentionn mask\n",
        "  input_label = [] #list of labels\n",
        "  for (instance, label) in instances:\n",
        "    encoded_sent = tokenizer.encode(instance, \\\n",
        "                                  add_special_tokens = True, \\\n",
        "                                  max_length = MAX_SEQ_LENGTH, \\\n",
        "                                  padding = \"max_length\", \\\n",
        "                                  truncation = True)\n",
        "    input_ids.append(encoded_sent)\n",
        "    input_att_mask.append([int(token_id > 0) for token_id in encoded_sent])\n",
        "    input_label.append(label_map[label])\n",
        "\n",
        "  # ubah ke Torch's Tensor\n",
        "  input_ids = torch.tensor(input_ids).to(device)\n",
        "  input_att_mask = torch.tensor(input_att_mask).to(device)\n",
        "  input_label = torch.tensor(input_label).to(device)\n",
        "\n",
        "  # gunakan Torch's Dataset\n",
        "  dataset = TensorDataset(input_ids, input_att_mask, input_label)\n",
        "\n",
        "  # mengembalikan sebuah abstraksi DataLoader dari Torch\n",
        "  # DataLoader untuk manajemen batch\n",
        "  return DataLoader(dataset,\n",
        "                    sampler = SequentialSampler(dataset),\n",
        "                    #sampler = RandomSampler(dataset),\n",
        "                    batch_size = BATCH_SIZE)"
      ]
    },
    {
      "cell_type": "code",
      "execution_count": null,
      "metadata": {
        "id": "XAV_3TKMBnV5"
      },
      "outputs": [],
      "source": [
        "def model_bert(df_used, states, n, pseudolabelling=False, augmentation=False):\n",
        "  dataset = df_used[['Sentence','Expert']]\n",
        "  y = dataset['Expert']\n",
        "\n",
        "  config = AutoConfig.from_pretrained(MODEL_NAME)\n",
        "  classifier = Classifier(input_size = config.hidden_size)\n",
        "  dict_final = {}\n",
        "  dict_all_result = {}\n",
        "\n",
        "  vectorizer = sklearn.feature_extraction.text.TfidfVectorizer(lowercase=True, ngram_range=(1,1))\n",
        "  vectorizer.fit(dataset['Sentence'])\n",
        "\n",
        "  inv_map = {v: k for k, v in map_name_id.items()}\n",
        "\n",
        "  for i in range(n):\n",
        "    train, val = train_test_split(dataset, test_size=0.3, stratify=y, random_state=states[i])\n",
        "\n",
        "    if(augmentation):\n",
        "      train = oversampling_augmentation(train, states[i])\n",
        "      for k in range(len(train['Expert'])):\n",
        "        try:\n",
        "          l = inv_map[train['Expert'].iloc[k]]\n",
        "          train.at[k,'Expert'] = l\n",
        "        except:\n",
        "          pass\n",
        "    elif(pseudolabelling):\n",
        "      train = pseudolabelling_oversampling(train, vectorizer)\n",
        "      train['Expert'] = [inv_map[class_name] for class_name in train['Expert'].values]\n",
        "\n",
        "    train_docs = list(train.itertuples(index=False, name=None))\n",
        "    valid_docs = list(val.itertuples(index=False, name=None))\n",
        "\n",
        "    temp = pd.get_dummies(train['Expert'].unique())\n",
        "    label_map = {}\n",
        "    for l in temp:\n",
        "      label_map[l] = list(temp[l])\n",
        "\n",
        "    y_pred, y_true = train_bert(train_docs, valid_docs, label_map, classifier)\n",
        "    report = classification_report(y_true, y_pred, target_names=map_name_id.keys())\n",
        "\n",
        "    dict_all_result[i] = evaluate(report)\n",
        "\n",
        "\n",
        "  dict_std, dict_final = find_std(dict_all_result,n)\n",
        "  return dict_final, dict_std, dict_all_result"
      ]
    },
    {
      "cell_type": "code",
      "execution_count": null,
      "metadata": {
        "id": "CeQMIcwtB42a"
      },
      "outputs": [],
      "source": [
        "# Classifier adalah layer on top of BERT yang digunakan untuk klasifikasi\n",
        "# inputnya adalah vektor CLS dari BERT\n",
        "class Classifier(nn.Module):\n",
        "    def __init__(self, input_size = 512, output_size = 12, dropout_rate = 0.1):\n",
        "        super(Classifier, self).__init__()\n",
        "        layers = []\n",
        "        layers.append(nn.Linear(input_size, output_size))\n",
        "        layers.append(nn.LeakyReLU(0.2, inplace = True))\n",
        "        layers.append(nn.Dropout(dropout_rate))\n",
        "        layers.append(nn.Softmax(dim = -1))\n",
        "        self.layers = nn.Sequential(*layers)\n",
        "\n",
        "    def forward(self, input):\n",
        "        return self.layers(input)"
      ]
    },
    {
      "cell_type": "code",
      "execution_count": null,
      "metadata": {
        "id": "oGjnt6WJ9Hrb"
      },
      "outputs": [],
      "source": [
        "def train_bert(train_docs, valid_docs, label_map, classifier):\n",
        "  train_instances = create_data_loader(train_docs,label_map)\n",
        "  valid_instances = create_data_loader(valid_docs,label_map)\n",
        "\n",
        "  transformer_vars = [p for p in transformer.parameters()]\n",
        "  classifier_vars = [p for p in classifier.parameters()]\n",
        "  all_vars = transformer_vars + classifier_vars\n",
        "\n",
        "  # jika GPU available\n",
        "  # Put everything in the GPU if available\n",
        "  if torch.cuda.is_available():\n",
        "    classifier.cuda()\n",
        "    transformer.cuda()\n",
        "\n",
        "  # optimizer\n",
        "  optimizer = torch.optim.AdamW(all_vars, lr = LEARNING_RATE)\n",
        "\n",
        "  # kita gunakan scheduler untuk warming-up\n",
        "  # Vaswani mengusulkan suatu rumus penentuan learning_rate saat warming-up\n",
        "  # dan setelahnya\n",
        "  num_train_instances = len(train_instances)\n",
        "  num_train_steps = int(num_train_instances / BATCH_SIZE * EPOCH)\n",
        "  num_warmup_steps = int(num_train_steps * WARMUP_PROPORTION)\n",
        "\n",
        "  #scheduler = get_constant_schedule_with_warmup(optimizer,\n",
        "  #                                             num_warmup_steps = num_warmup_steps)\n",
        "\n",
        "  for epoch_i in range(0, EPOCH):\n",
        "    print(f\"Epoch {epoch_i + 1} / {EPOCH}\")\n",
        "    # Reset the total loss for this epoch.\n",
        "    tr_loss = 0\n",
        "\n",
        "    # Put the model into training mode.\n",
        "    transformer.train()\n",
        "    classifier.train()\n",
        "\n",
        "    # Untuk setiap batch di training data\n",
        "    for step, batch in enumerate(train_instances):\n",
        "      print(f\">>>> Batch {step + 1}\")\n",
        "\n",
        "      # Unpack sebuah batch dari DataLoader\n",
        "      batch_input_ids = batch[0]\n",
        "      batch_input_att_mask = batch[1]\n",
        "      batch_label = batch[2]\n",
        "\n",
        "      # Encode real data in the Transformer\n",
        "      bert_outputs = transformer(batch_input_ids, attention_mask = batch_input_att_mask)\n",
        "      cls_hidden_states = bert_outputs.pooler_output\n",
        "      probs = classifier(cls_hidden_states)\n",
        "\n",
        "      # Categorical Cross-Entropy\n",
        "      loss = -torch.mean(torch.sum(batch_label * torch.log(probs), dim = 1))\n",
        "      #loss.requires_grad = True\n",
        "\n",
        "      # Agar gradient tidak menumpuk; ini diperlukan sebelum\n",
        "      # menghitung gradient dengan loss.backward()\n",
        "      optimizer.zero_grad()\n",
        "\n",
        "      # hitung gradient\n",
        "      loss.backward()\n",
        "\n",
        "      # update parameter\n",
        "      optimizer.step()\n",
        "\n",
        "      # akumulasi loss dalam 1 epoch\n",
        "      tr_loss += loss.item()\n",
        "\n",
        "      # update learning rate\n",
        "      #scheduler.step()\n",
        "\n",
        "    # rata-rata loss dalam 1 epoch\n",
        "    avg_loss = tr_loss / len(train_instances)\n",
        "\n",
        "    print(f\"Average loss: {avg_loss}\")\n",
        "\n",
        "    ### Uji coba di Validation Data\n",
        "    print(\"Uji coba di Validation Data ...\")\n",
        "\n",
        "    # model eval, agar layer seperti dropout yang menghasilkan\n",
        "    # sesuai yang random tidak digunakan\n",
        "    classifier.eval()\n",
        "    transformer.eval()\n",
        "\n",
        "    val_loss = 0\n",
        "    pred_labels = []\n",
        "    true_labels = []\n",
        "\n",
        "    # Untuk setiap batch di validation data\n",
        "    for step, batch in enumerate(valid_instances):\n",
        "\n",
        "      # Unpack sebuah batch dari DataLoader\n",
        "      batch_input_ids = batch[0].to(device)\n",
        "      batch_input_att_mask = batch[1].to(device)\n",
        "      batch_label = batch[2].to(device)\n",
        "\n",
        "      # jangan track gradient! ini sedang evaluasi, bukan training\n",
        "      with torch.no_grad():\n",
        "        bert_outputs = transformer(batch_input_ids, attention_mask = batch_input_att_mask)\n",
        "        cls_hidden_states = bert_outputs.pooler_output\n",
        "        probs = classifier(cls_hidden_states)\n",
        "\n",
        "        # Categorical Cross-Entropy\n",
        "        loss = -torch.mean(torch.sum(batch_label * torch.log(probs), dim = 1))\n",
        "        #loss.requires_grad = True\n",
        "        # akumulasi loss di validation set\n",
        "        val_loss += loss.item()\n",
        "\n",
        "      # akumulasi prediksi\n",
        "      _, pred_l = torch.max(probs, dim = 1) # outnya adalah 2-tuple: (max, max_indices)\n",
        "      pred_labels += pred_l.detach().cpu()\n",
        "      _, true_l = torch.max(batch_label, dim = 1)\n",
        "      true_labels += true_l.detach().cpu()\n",
        "\n",
        "    # average loss\n",
        "    avg_val_loss = val_loss / len(valid_instances)\n",
        "\n",
        "    # accuracy\n",
        "    pred_labels = torch.stack(pred_labels).numpy()\n",
        "    true_labels = torch.stack(true_labels).numpy()\n",
        "    val_accuracy = np.sum(pred_labels == true_labels) / len(pred_labels)\n",
        "    print(f\"Average loss di validation data: {avg_val_loss}\")\n",
        "    print(f\"Accuracy di validation data: {val_accuracy}\")\n",
        "\n",
        "    print(\"\")\n",
        "  return pred_labels,true_labels\n"
      ]
    },
    {
      "cell_type": "markdown",
      "metadata": {
        "id": "rX1EP_hPD6XD"
      },
      "source": [
        "## Scenario 1: Question Only"
      ]
    },
    {
      "cell_type": "code",
      "execution_count": null,
      "metadata": {
        "id": "p1MxQjb9V2LN"
      },
      "outputs": [],
      "source": [
        "question_df = doc_df[doc_df['Category']=='Question'][['Sentence','Expert']]"
      ]
    },
    {
      "cell_type": "markdown",
      "metadata": {
        "id": "aGIqv_M-Clf0"
      },
      "source": [
        "### ML"
      ]
    },
    {
      "cell_type": "code",
      "execution_count": null,
      "metadata": {
        "id": "tbym5hzi_Uen"
      },
      "outputs": [],
      "source": [
        "dict_avg, dict_std, dict_scores  = model_ML(question_df, 20, states, oversampling_smote=False, oversampling_pseudolabelling=True, augmentation=False)"
      ]
    },
    {
      "cell_type": "code",
      "execution_count": null,
      "metadata": {
        "colab": {
          "base_uri": "https://localhost:8080/"
        },
        "id": "nXFVbASr8BBV",
        "outputId": "d51d95d4-72b6-4cba-bb75-1bae5521bb01"
      },
      "outputs": [
        {
          "data": {
            "text/plain": [
              "{'XGBoost': {0: [0.05, 0.08, 0.06],\n",
              "  1: [0.08, 0.09, 0.08],\n",
              "  2: [0.05, 0.05, 0.04],\n",
              "  3: [0.04, 0.06, 0.05],\n",
              "  4: [0.36, 0.15, 0.19],\n",
              "  5: [0.28, 0.13, 0.15],\n",
              "  6: [0.09, 0.1, 0.09],\n",
              "  7: [0.09, 0.1, 0.09],\n",
              "  8: [0.24, 0.08, 0.11],\n",
              "  9: [0.24, 0.12, 0.15],\n",
              "  10: [0.11, 0.11, 0.11],\n",
              "  11: [0.33, 0.34, 0.29],\n",
              "  'accuracy': [0.02],\n",
              "  ' macro avg': [0.05, 0.03, 0.04],\n",
              "  'weighted avg': [0.02, 0.02, 0.02]},\n",
              " 'Naive Bayes': {0: [0.08, 0.06, 0.06],\n",
              "  1: [0.11, 0.03, 0.05],\n",
              "  2: [0.03, 0.02, 0.02],\n",
              "  3: [0.02, 0.03, 0.02],\n",
              "  4: [0.0, 0.0, 0.0],\n",
              "  5: [0.0, 0.0, 0.0],\n",
              "  6: [0.45, 0.03, 0.06],\n",
              "  7: [0.43, 0.04, 0.07],\n",
              "  8: [0.0, 0.0, 0.0],\n",
              "  9: [0.0, 0.0, 0.0],\n",
              "  10: [0.0, 0.0, 0.0],\n",
              "  11: [0.0, 0.0, 0.0],\n",
              "  'accuracy': [0.02],\n",
              "  ' macro avg': [0.04, 0.01, 0.01],\n",
              "  'weighted avg': [0.04, 0.02, 0.02]},\n",
              " 'Decision Tree': {0: [0.03, 0.1, 0.04],\n",
              "  1: [0.1, 0.06, 0.06],\n",
              "  2: [0.05, 0.06, 0.05],\n",
              "  3: [0.05, 0.06, 0.03],\n",
              "  4: [0.45, 0.14, 0.18],\n",
              "  5: [0.37, 0.13, 0.17],\n",
              "  6: [0.14, 0.06, 0.08],\n",
              "  7: [0.16, 0.13, 0.11],\n",
              "  8: [0.0, 0.0, 0.0],\n",
              "  9: [0.31, 0.12, 0.17],\n",
              "  10: [0.0, 0.0, 0.0],\n",
              "  11: [0.36, 0.43, 0.33],\n",
              "  'accuracy': [0.02],\n",
              "  ' macro avg': [0.06, 0.04, 0.04],\n",
              "  'weighted avg': [0.03, 0.02, 0.02]},\n",
              " 'Perceptron': {0: [0.04, 0.07, 0.04],\n",
              "  1: [0.09, 0.12, 0.07],\n",
              "  2: [0.05, 0.06, 0.04],\n",
              "  3: [0.05, 0.06, 0.03],\n",
              "  4: [0.19, 0.16, 0.16],\n",
              "  5: [0.18, 0.14, 0.15],\n",
              "  6: [0.07, 0.1, 0.08],\n",
              "  7: [0.11, 0.11, 0.1],\n",
              "  8: [0.26, 0.12, 0.14],\n",
              "  9: [0.14, 0.2, 0.16],\n",
              "  10: [0.24, 0.29, 0.18],\n",
              "  11: [0.29, 0.32, 0.23],\n",
              "  'accuracy': [0.02],\n",
              "  ' macro avg': [0.03, 0.04, 0.03],\n",
              "  'weighted avg': [0.02, 0.02, 0.02]},\n",
              " 'MLP': {0: [0.13, 0.19, 0.14],\n",
              "  1: [0.31, 0.22, 0.21],\n",
              "  2: [0.13, 0.2, 0.15],\n",
              "  3: [0.08, 0.08, 0.06],\n",
              "  4: [0.0, 0.0, 0.0],\n",
              "  5: [0.0, 0.0, 0.0],\n",
              "  6: [0.28, 0.16, 0.17],\n",
              "  7: [0.27, 0.12, 0.15],\n",
              "  8: [0.0, 0.0, 0.0],\n",
              "  9: [0.0, 0.0, 0.0],\n",
              "  10: [0.0, 0.0, 0.0],\n",
              "  11: [0.0, 0.0, 0.0],\n",
              "  'accuracy': [0.03],\n",
              "  ' macro avg': [0.04, 0.01, 0.02],\n",
              "  'weighted avg': [0.06, 0.03, 0.04]},\n",
              " 'SVM': {0: [0.05, 0.09, 0.07],\n",
              "  1: [0.1, 0.06, 0.08],\n",
              "  2: [0.04, 0.02, 0.04],\n",
              "  3: [0.06, 0.07, 0.04],\n",
              "  4: [0.4, 0.08, 0.13],\n",
              "  5: [0.0, 0.0, 0.0],\n",
              "  6: [0.19, 0.06, 0.09],\n",
              "  7: [0.3, 0.04, 0.07],\n",
              "  8: [0.0, 0.0, 0.0],\n",
              "  9: [0.0, 0.0, 0.0],\n",
              "  10: [0.0, 0.0, 0.0],\n",
              "  11: [0.0, 0.0, 0.0],\n",
              "  'accuracy': [0.03],\n",
              "  ' macro avg': [0.04, 0.02, 0.02],\n",
              "  'weighted avg': [0.03, 0.03, 0.03]}}"
            ]
          },
          "execution_count": 48,
          "metadata": {},
          "output_type": "execute_result"
        }
      ],
      "source": [
        "dict_std"
      ]
    },
    {
      "cell_type": "code",
      "execution_count": null,
      "metadata": {
        "colab": {
          "base_uri": "https://localhost:8080/"
        },
        "id": "ScsFeZQKSa3i",
        "outputId": "528b016e-2b48-4a89-fb46-1a6d8301a56c"
      },
      "outputs": [
        {
          "data": {
            "text/plain": [
              "{0: [0.25, 0.31, 0.28, 51.0],\n",
              " 1: [0.45, 0.4, 0.42, 35.0],\n",
              " 2: [0.66, 0.75, 0.7, 68.0],\n",
              " 3: [0.57, 0.58, 0.58, 67.0],\n",
              " 4: [0.0, 0.0, 0.0, 5.0],\n",
              " 5: [0.0, 0.0, 0.0, 8.0],\n",
              " 6: [0.46, 0.55, 0.5, 22.0],\n",
              " 7: [0.57, 0.36, 0.44, 22.0],\n",
              " 8: [0.0, 0.0, 0.0, 4.0],\n",
              " 9: [0.0, 0.0, 0.0, 3.0],\n",
              " 10: [0.0, 0.0, 0.0, 2.0],\n",
              " 11: [0.5, 1.0, 0.67, 2.0],\n",
              " 'accuracy': [0.49],\n",
              " ' macro avg': [0.29, 0.33, 0.3],\n",
              " 'weighted avg': [0.47, 0.49, 0.48]}"
            ]
          },
          "execution_count": 45,
          "metadata": {},
          "output_type": "execute_result"
        }
      ],
      "source": [
        "dict_scores['XGBoost'][(1,1)][19]"
      ]
    },
    {
      "cell_type": "code",
      "execution_count": null,
      "metadata": {
        "id": "OMGzoSBkzZF_"
      },
      "outputs": [],
      "source": [
        "files = open(f'Eksperimen 2 - Input 1.txt', 'w')\n",
        "res = \"dict_avg = \" + str(dict_avg) + \"\\ndict_std = \" + str(dict_std) + \"\\ndict_scores = \" + str(dict_scores)\n",
        "y = files.write(res)\n",
        "files.close()"
      ]
    },
    {
      "cell_type": "markdown",
      "metadata": {
        "id": "hWU8fbx0CoQM"
      },
      "source": [
        "### BERT"
      ]
    },
    {
      "cell_type": "code",
      "execution_count": null,
      "metadata": {
        "colab": {
          "background_save": true
        },
        "id": "aVzVZCRsn4oU"
      },
      "outputs": [],
      "source": [
        "dict_final, dict_std, dict_scores = model_bert(question_df, states, 20, augmentation=True, pseudolabelling=False)"
      ]
    },
    {
      "cell_type": "code",
      "execution_count": null,
      "metadata": {
        "colab": {
          "background_save": true
        },
        "id": "Jlze24QfGjRR",
        "outputId": "ab77275f-e354-49ff-b2b9-751bc8322a9d"
      },
      "outputs": [
        {
          "data": {
            "text/plain": [
              "{0: [0.0, 0.22, 0.01],\n",
              " 1: [0.0, 0.0, 0.0],\n",
              " 2: [0.0, 0.0, 0.0],\n",
              " 3: [0.0, 0.0, 0.0],\n",
              " 4: [0.0, 0.0, 0.0],\n",
              " 5: [0.02, 0.22, 0.03],\n",
              " 6: [0.0, 0.0, 0.0],\n",
              " 7: [0.01, 0.46, 0.01],\n",
              " 8: [0.01, 0.4, 0.01],\n",
              " 9: [0.01, 0.43, 0.01],\n",
              " 10: [0.01, 0.36, 0.01],\n",
              " 11: [0.0, 0.0, 0.0],\n",
              " 'accuracy': [0.01],\n",
              " ' macro avg': [0.0, 0.0, 0.0],\n",
              " 'weighted avg': [0.0, 0.01, 0.0]}"
            ]
          },
          "execution_count": 49,
          "metadata": {},
          "output_type": "execute_result"
        }
      ],
      "source": [
        "dict_std"
      ]
    },
    {
      "cell_type": "code",
      "execution_count": null,
      "metadata": {
        "id": "jqUlEZIZD0DZ"
      },
      "outputs": [],
      "source": [
        "metrics = ['Precision', 'Recall', 'F1']"
      ]
    },
    {
      "cell_type": "code",
      "execution_count": null,
      "metadata": {
        "id": "JlG3fpZLD5pj"
      },
      "outputs": [],
      "source": [
        "files = open(f'Eksperimen 1 - Input 1 - BERT - Oversampling - Keyword-Based.txt', 'w')\n",
        "res = \"dict_avg = \" + str(dict_final) + \"\\ndict_std = \" + str(dict_std) + \"\\ndict_scores = \" + str(dict_scores)\n",
        "y = files.write(res)\n",
        "files.close()"
      ]
    },
    {
      "cell_type": "markdown",
      "metadata": {
        "id": "3sJh44fD37r0"
      },
      "source": [
        "## Scenario 2: Concat Background + Ignore"
      ]
    },
    {
      "cell_type": "code",
      "execution_count": null,
      "metadata": {
        "id": "6cecIguN6ECh"
      },
      "outputs": [],
      "source": [
        "def scenario_2(df_used):\n",
        "  final_df = pd.DataFrame(columns=['Sentence','Expert'])\n",
        "  for i in df_used['Document ID'].unique():\n",
        "    df = df_used[doc_df['Document ID']==i]\n",
        "    questions = df[df['Category']=='Question'].index\n",
        "    for i in questions:\n",
        "      to_be_deleted = np.delete(questions, np.where(questions==i))\n",
        "      res_df = df.drop(index=to_be_deleted)\n",
        "      res = ' '.join(res_df['Sentence'])\n",
        "      temp = {'Sentence':res, 'Expert':df['Expert'][i]}\n",
        "      df_temp = pd.DataFrame([temp])\n",
        "      final_df = pd.concat([final_df,df_temp],ignore_index=True)\n",
        "  final_df.reset_index(inplace=True, drop=True)\n",
        "  return final_df"
      ]
    },
    {
      "cell_type": "code",
      "execution_count": null,
      "metadata": {
        "id": "5tjWPnwt6Ka0"
      },
      "outputs": [],
      "source": [
        "sc2_df = scenario_2(doc_df)"
      ]
    },
    {
      "cell_type": "markdown",
      "metadata": {
        "id": "n2r2YkMrPKD7"
      },
      "source": [
        "### ML"
      ]
    },
    {
      "cell_type": "code",
      "execution_count": null,
      "metadata": {
        "id": "MPqaBdnLm3UX"
      },
      "outputs": [],
      "source": [
        "dict_avg2, dict_std2, dict_scores2  = model_ML(sc2_df, 20, states, oversampling_smote=False, oversampling_pseudolabelling=False, augmentation=False)"
      ]
    },
    {
      "cell_type": "code",
      "execution_count": null,
      "metadata": {
        "id": "KCn7TS0DFyPV"
      },
      "outputs": [],
      "source": [
        "for n in n_gram:\n",
        "  for m in metrics:\n",
        "    id_m = metrics.index(m)\n",
        "    t = table_visualization(dict_avg2,dict_std2, n, id_m)\n",
        "\n",
        "    title = f'Eksperimen 2 - Input 2 - {n_gram[n]} - {m}'\n",
        "    t.to_csv(f'{title}.csv')\n",
        "\n",
        "    a = convert_to_latex(t, title, n_gram[n])\n"
      ]
    },
    {
      "cell_type": "code",
      "execution_count": null,
      "metadata": {
        "id": "j26_Pq3RMxe6"
      },
      "outputs": [],
      "source": [
        "files = open(f'Eksperimen 2 - Input 2.txt', 'w')\n",
        "res = \"dict_avg = \" + str(dict_avg2) + \"\\ndict_std = \" + str(dict_std2) + \"\\ndict_scores = \" + str(dict_scores2)\n",
        "y = files.write(res)\n",
        "files.close()"
      ]
    },
    {
      "cell_type": "markdown",
      "metadata": {
        "id": "7WG9S0gaPLse"
      },
      "source": [
        "### BERT"
      ]
    },
    {
      "cell_type": "code",
      "execution_count": null,
      "metadata": {
        "id": "5DxCY6IMzWxv"
      },
      "outputs": [],
      "source": [
        "dict_final2, dict_std2, dict_scores2 = model_bert(sc2_df, states, 20, augmentation=False, pseudolabelling=False)"
      ]
    },
    {
      "cell_type": "code",
      "execution_count": null,
      "metadata": {
        "colab": {
          "base_uri": "https://localhost:8080/"
        },
        "id": "65kkMdZ6G38z",
        "outputId": "6078c06d-4d75-49ee-f9a3-2bc0384435a2"
      },
      "outputs": [
        {
          "data": {
            "text/plain": [
              "{0: [0.1, 0.43, 0.16],\n",
              " 1: [0.07, 0.3, 0.11],\n",
              " 2: [0.1, 0.43, 0.16],\n",
              " 3: [0.08, 0.36, 0.14],\n",
              " 4: [0.06, 0.3, 0.1],\n",
              " 5: [0.07, 0.3, 0.11],\n",
              " 6: [0.05, 0.22, 0.08],\n",
              " 7: [0.0, 0.0, 0.0],\n",
              " 8: [0.0, 0.0, 0.0],\n",
              " 9: [0.0, 0.0, 0.0],\n",
              " 10: [0.0, 0.0, 0.0],\n",
              " 11: [0.0, 0.0, 0.0],\n",
              " 'accuracy': [0.02],\n",
              " ' macro avg': [0.0, 0.0, 0.0],\n",
              " 'weighted avg': [0.01, 0.02, 0.01]}"
            ]
          },
          "execution_count": 47,
          "metadata": {},
          "output_type": "execute_result"
        }
      ],
      "source": [
        "dict_std2"
      ]
    },
    {
      "cell_type": "code",
      "execution_count": null,
      "metadata": {
        "id": "c9x8Y_OmEKRR"
      },
      "outputs": [],
      "source": [
        "files = open(f'Eksperimen 1 - Input 2 - BERT - Oversampling - Pseudolabelling.txt', 'w')\n",
        "res = \"dict_avg = \" + str(dict_final2) + \"\\ndict_std = \" + str(dict_std2) + \"\\ndict_scores = \" + str(dict_scores2)\n",
        "y = files.write(res)\n",
        "files.close()"
      ]
    },
    {
      "cell_type": "markdown",
      "metadata": {
        "id": "VvEaQrQgBzZR"
      },
      "source": [
        "## Scenario 3: Concat Background"
      ]
    },
    {
      "cell_type": "code",
      "execution_count": null,
      "metadata": {
        "id": "xU8bDnDgBpnn"
      },
      "outputs": [],
      "source": [
        "def scenario_3(df_used):\n",
        "  final_df = pd.DataFrame(columns=['Sentence','Expert'])\n",
        "  for i in df_used['Document ID'].unique():\n",
        "    df = df_used[(doc_df['Document ID']==i) & (doc_df['Category'] != 'Ignore')]\n",
        "    questions = df[df['Category']=='Question'].index\n",
        "    for i in questions:\n",
        "      to_be_deleted = np.delete(questions, np.where(questions==i))\n",
        "      res_df = df.drop(index=to_be_deleted)\n",
        "      res = ' '.join(res_df['Sentence'])\n",
        "      temp = {'Sentence':res, 'Expert':df['Expert'][i] }\n",
        "      df_temp = pd.DataFrame([temp])\n",
        "      final_df = pd.concat([final_df,df_temp],ignore_index=True)\n",
        "  final_df.reset_index(inplace=True, drop=True)\n",
        "  return final_df"
      ]
    },
    {
      "cell_type": "code",
      "execution_count": null,
      "metadata": {
        "id": "eR4EGnD3CLFz"
      },
      "outputs": [],
      "source": [
        "sc3_df = scenario_3(doc_df)"
      ]
    },
    {
      "cell_type": "markdown",
      "metadata": {
        "id": "Ig3huYMRPOr2"
      },
      "source": [
        "### ML"
      ]
    },
    {
      "cell_type": "code",
      "execution_count": null,
      "metadata": {
        "id": "pWPD6sNQm7me"
      },
      "outputs": [],
      "source": [
        "dict_avg3, dict_std3, dict_scores3  = model_ML(sc3_df, 20, states, oversampling_smote=False, oversampling_pseudolabelling=False, augmentation=False)"
      ]
    },
    {
      "cell_type": "code",
      "execution_count": null,
      "metadata": {
        "id": "N2CiOhujNBWj"
      },
      "outputs": [],
      "source": [
        "for n in n_gram:\n",
        "  for m in metrics:\n",
        "    id_m = metrics.index(m)\n",
        "    t = table_visualization(dict_avg3,dict_std3, n, id_m)\n",
        "\n",
        "    title = f'Eksperimen 2 - Input 3 - {n_gram[n]} - {m}'\n",
        "    t.to_csv(f'{title}.csv')\n",
        "\n",
        "    a = convert_to_latex(t, title, n_gram[n])\n"
      ]
    },
    {
      "cell_type": "code",
      "execution_count": null,
      "metadata": {
        "id": "m7hK-441NGYQ"
      },
      "outputs": [],
      "source": [
        "files = open(f'Eksperimen 2 - Input 3.txt', 'w')\n",
        "res = \"dict_avg = \" + str(dict_avg3) + \"\\ndict_std = \" + str(dict_std3) + \"\\ndict_scores = \" + str(dict_scores3)\n",
        "y = files.write(res)\n",
        "files.close()"
      ]
    },
    {
      "cell_type": "markdown",
      "metadata": {
        "id": "_UdJeVWBPRqT"
      },
      "source": [
        "### BERT"
      ]
    },
    {
      "cell_type": "code",
      "execution_count": null,
      "metadata": {
        "id": "FU9eYOPNvrGw"
      },
      "outputs": [],
      "source": [
        "dict_final3, dict_std3, dict_scores3 = model_bert(sc3_df, states, 20, augmentation=False, pseudolabelling=False)"
      ]
    },
    {
      "cell_type": "code",
      "execution_count": null,
      "metadata": {
        "colab": {
          "base_uri": "https://localhost:8080/"
        },
        "id": "gWChXpU8G73H",
        "outputId": "01ca4fff-7a7f-437b-c62e-5279c04e3bf8"
      },
      "outputs": [
        {
          "data": {
            "text/plain": [
              "{0: [0.08, 0.36, 0.14],\n",
              " 1: [0.08, 0.36, 0.14],\n",
              " 2: [0.09, 0.4, 0.14],\n",
              " 3: [0.09, 0.43, 0.15],\n",
              " 4: [0.06, 0.3, 0.1],\n",
              " 5: [0.06, 0.3, 0.1],\n",
              " 6: [0.05, 0.22, 0.08],\n",
              " 7: [0.0, 0.0, 0.0],\n",
              " 8: [0.0, 0.0, 0.0],\n",
              " 9: [0.0, 0.0, 0.0],\n",
              " 10: [0.0, 0.0, 0.0],\n",
              " 11: [0.0, 0.0, 0.0],\n",
              " 'accuracy': [0.02],\n",
              " ' macro avg': [0.0, 0.0, 0.0],\n",
              " 'weighted avg': [0.01, 0.02, 0.02]}"
            ]
          },
          "execution_count": 51,
          "metadata": {},
          "output_type": "execute_result"
        }
      ],
      "source": [
        "dict_std3"
      ]
    },
    {
      "cell_type": "code",
      "execution_count": null,
      "metadata": {
        "colab": {
          "background_save": true
        },
        "id": "LUsRjy5uESwY"
      },
      "outputs": [],
      "source": [
        "files = open(f'Eksperimen 1 - Input 3 - BERT - Oversampling - Pseudolabelling.txt', 'w')\n",
        "res = \"dict_avg = \" + str(dict_final3) + \"\\ndict_std = \" + str(dict_std3) + \"\\ndict_scores = \" + str(dict_scores3)\n",
        "y = files.write(res)\n",
        "files.close()"
      ]
    },
    {
      "cell_type": "markdown",
      "metadata": {
        "id": "ptLVPa9LCW3f"
      },
      "source": [
        "## Scenario 4: Concat only background sentences that appear before the question"
      ]
    },
    {
      "cell_type": "code",
      "execution_count": null,
      "metadata": {
        "id": "xUwVfr3SCO-q"
      },
      "outputs": [],
      "source": [
        "def scenario_4(df_used):\n",
        "  final_df = pd.DataFrame(columns=['Sentence','Expert'])\n",
        "  for i in df_used['Document ID'].unique():\n",
        "    df = df_used[(doc_df['Document ID']==i) & (doc_df['Category'] != 'Ignore')]\n",
        "    questions = df[df['Category']=='Question'].index\n",
        "    for i in questions:\n",
        "      to_be_deleted = np.delete(questions, np.where(questions==i))\n",
        "      res_df = df.drop(index=to_be_deleted)\n",
        "      res = ' '.join(res_df['Sentence'][:i+1])\n",
        "      temp = {'Sentence':res, 'Expert':df['Expert'][i] }\n",
        "      df_temp = pd.DataFrame([temp])\n",
        "      final_df = pd.concat([final_df,df_temp],ignore_index=True)\n",
        "  final_df.reset_index(inplace=True, drop=True)\n",
        "  return final_df"
      ]
    },
    {
      "cell_type": "code",
      "execution_count": null,
      "metadata": {
        "colab": {
          "base_uri": "https://localhost:8080/",
          "height": 201
        },
        "id": "jN4cAHpIFREQ",
        "outputId": "659bde47-cd30-4685-f211-2e69cb4d2534"
      },
      "outputs": [
        {
          "data": {
            "text/html": [
              "\n",
              "  <div id=\"df-d2af56aa-864e-49b0-a4d2-d41092617f4a\">\n",
              "    <div class=\"colab-df-container\">\n",
              "      <div>\n",
              "<style scoped>\n",
              "    .dataframe tbody tr th:only-of-type {\n",
              "        vertical-align: middle;\n",
              "    }\n",
              "\n",
              "    .dataframe tbody tr th {\n",
              "        vertical-align: top;\n",
              "    }\n",
              "\n",
              "    .dataframe thead th {\n",
              "        text-align: right;\n",
              "    }\n",
              "</style>\n",
              "<table border=\"1\" class=\"dataframe\">\n",
              "  <thead>\n",
              "    <tr style=\"text-align: right;\">\n",
              "      <th></th>\n",
              "      <th>Sentence</th>\n",
              "      <th>Expert</th>\n",
              "    </tr>\n",
              "  </thead>\n",
              "  <tbody>\n",
              "    <tr>\n",
              "      <th>0</th>\n",
              "      <td>saya pernah kali melahirkan secara caesar  ter...</td>\n",
              "      <td>Information</td>\n",
              "    </tr>\n",
              "    <tr>\n",
              "      <th>1</th>\n",
              "      <td>saya pernah kali melahirkan secara caesar  ter...</td>\n",
              "      <td>Information</td>\n",
              "    </tr>\n",
              "    <tr>\n",
              "      <th>2</th>\n",
              "      <td>saya sudah tahun ini olahraga rutin tiga hari ...</td>\n",
              "      <td>Cause</td>\n",
              "    </tr>\n",
              "    <tr>\n",
              "      <th>3</th>\n",
              "      <td>saya sudah tahun ini olahraga rutin tiga hari ...</td>\n",
              "      <td>Management</td>\n",
              "    </tr>\n",
              "    <tr>\n",
              "      <th>4</th>\n",
              "      <td>saya sering mengalami pusing sebelah atau selu...</td>\n",
              "      <td>Diagnosis</td>\n",
              "    </tr>\n",
              "  </tbody>\n",
              "</table>\n",
              "</div>\n",
              "      <button class=\"colab-df-convert\" onclick=\"convertToInteractive('df-d2af56aa-864e-49b0-a4d2-d41092617f4a')\"\n",
              "              title=\"Convert this dataframe to an interactive table.\"\n",
              "              style=\"display:none;\">\n",
              "        \n",
              "  <svg xmlns=\"http://www.w3.org/2000/svg\" height=\"24px\"viewBox=\"0 0 24 24\"\n",
              "       width=\"24px\">\n",
              "    <path d=\"M0 0h24v24H0V0z\" fill=\"none\"/>\n",
              "    <path d=\"M18.56 5.44l.94 2.06.94-2.06 2.06-.94-2.06-.94-.94-2.06-.94 2.06-2.06.94zm-11 1L8.5 8.5l.94-2.06 2.06-.94-2.06-.94L8.5 2.5l-.94 2.06-2.06.94zm10 10l.94 2.06.94-2.06 2.06-.94-2.06-.94-.94-2.06-.94 2.06-2.06.94z\"/><path d=\"M17.41 7.96l-1.37-1.37c-.4-.4-.92-.59-1.43-.59-.52 0-1.04.2-1.43.59L10.3 9.45l-7.72 7.72c-.78.78-.78 2.05 0 2.83L4 21.41c.39.39.9.59 1.41.59.51 0 1.02-.2 1.41-.59l7.78-7.78 2.81-2.81c.8-.78.8-2.07 0-2.86zM5.41 20L4 18.59l7.72-7.72 1.47 1.35L5.41 20z\"/>\n",
              "  </svg>\n",
              "      </button>\n",
              "      \n",
              "  <style>\n",
              "    .colab-df-container {\n",
              "      display:flex;\n",
              "      flex-wrap:wrap;\n",
              "      gap: 12px;\n",
              "    }\n",
              "\n",
              "    .colab-df-convert {\n",
              "      background-color: #E8F0FE;\n",
              "      border: none;\n",
              "      border-radius: 50%;\n",
              "      cursor: pointer;\n",
              "      display: none;\n",
              "      fill: #1967D2;\n",
              "      height: 32px;\n",
              "      padding: 0 0 0 0;\n",
              "      width: 32px;\n",
              "    }\n",
              "\n",
              "    .colab-df-convert:hover {\n",
              "      background-color: #E2EBFA;\n",
              "      box-shadow: 0px 1px 2px rgba(60, 64, 67, 0.3), 0px 1px 3px 1px rgba(60, 64, 67, 0.15);\n",
              "      fill: #174EA6;\n",
              "    }\n",
              "\n",
              "    [theme=dark] .colab-df-convert {\n",
              "      background-color: #3B4455;\n",
              "      fill: #D2E3FC;\n",
              "    }\n",
              "\n",
              "    [theme=dark] .colab-df-convert:hover {\n",
              "      background-color: #434B5C;\n",
              "      box-shadow: 0px 1px 3px 1px rgba(0, 0, 0, 0.15);\n",
              "      filter: drop-shadow(0px 1px 2px rgba(0, 0, 0, 0.3));\n",
              "      fill: #FFFFFF;\n",
              "    }\n",
              "  </style>\n",
              "\n",
              "      <script>\n",
              "        const buttonEl =\n",
              "          document.querySelector('#df-d2af56aa-864e-49b0-a4d2-d41092617f4a button.colab-df-convert');\n",
              "        buttonEl.style.display =\n",
              "          google.colab.kernel.accessAllowed ? 'block' : 'none';\n",
              "\n",
              "        async function convertToInteractive(key) {\n",
              "          const element = document.querySelector('#df-d2af56aa-864e-49b0-a4d2-d41092617f4a');\n",
              "          const dataTable =\n",
              "            await google.colab.kernel.invokeFunction('convertToInteractive',\n",
              "                                                     [key], {});\n",
              "          if (!dataTable) return;\n",
              "\n",
              "          const docLinkHtml = 'Like what you see? Visit the ' +\n",
              "            '<a target=\"_blank\" href=https://colab.research.google.com/notebooks/data_table.ipynb>data table notebook</a>'\n",
              "            + ' to learn more about interactive tables.';\n",
              "          element.innerHTML = '';\n",
              "          dataTable['output_type'] = 'display_data';\n",
              "          await google.colab.output.renderOutput(dataTable, element);\n",
              "          const docLink = document.createElement('div');\n",
              "          docLink.innerHTML = docLinkHtml;\n",
              "          element.appendChild(docLink);\n",
              "        }\n",
              "      </script>\n",
              "    </div>\n",
              "  </div>\n",
              "  "
            ],
            "text/plain": [
              "                                            Sentence       Expert\n",
              "0  saya pernah kali melahirkan secara caesar  ter...  Information\n",
              "1  saya pernah kali melahirkan secara caesar  ter...  Information\n",
              "2  saya sudah tahun ini olahraga rutin tiga hari ...        Cause\n",
              "3  saya sudah tahun ini olahraga rutin tiga hari ...   Management\n",
              "4  saya sering mengalami pusing sebelah atau selu...    Diagnosis"
            ]
          },
          "execution_count": 53,
          "metadata": {},
          "output_type": "execute_result"
        }
      ],
      "source": [
        "sc4_df = scenario_4(doc_df)\n",
        "sc4_df.head()"
      ]
    },
    {
      "cell_type": "markdown",
      "metadata": {
        "id": "Q55eYx9YPXXu"
      },
      "source": [
        "### ML"
      ]
    },
    {
      "cell_type": "code",
      "execution_count": null,
      "metadata": {
        "id": "AP10A-KFm_XO"
      },
      "outputs": [],
      "source": [
        "dict_avg4, dict_std4, dict_scores4  = model_ML(sc4_df, 20, states, oversampling_smote=False, oversampling_pseudolabelling=False, augmentation=False)"
      ]
    },
    {
      "cell_type": "code",
      "execution_count": null,
      "metadata": {
        "id": "ESEjXbjiPoJd"
      },
      "outputs": [],
      "source": [
        "for n in n_gram:\n",
        "  for m in metrics:\n",
        "    id_m = metrics.index(m)\n",
        "    t = table_visualization(dict_avg4,dict_std4, n, id_m)\n",
        "\n",
        "    title = f'Eksperimen 2 - Input 4 - {n_gram[n]} - {m}'\n",
        "    t.to_csv(f'{title}.csv')\n",
        "\n",
        "    a = convert_to_latex(t, title, n_gram[n])\n"
      ]
    },
    {
      "cell_type": "code",
      "execution_count": null,
      "metadata": {
        "id": "R5kw3HaFPppy"
      },
      "outputs": [],
      "source": [
        "files = open(f'Eksperimen 2 - Input 4.txt', 'w')\n",
        "res = \"dict_avg = \" + str(dict_avg4) + \"\\ndict_std = \" + str(dict_std4) + \"\\ndict_scores = \" + str(dict_scores4)\n",
        "y = files.write(res)\n",
        "files.close()"
      ]
    },
    {
      "cell_type": "code",
      "execution_count": null,
      "metadata": {
        "colab": {
          "base_uri": "https://localhost:8080/"
        },
        "id": "AoTuwLa0a2vE",
        "outputId": "b285581f-867d-43ec-cad0-2acd4261e7cd"
      },
      "outputs": [
        {
          "data": {
            "text/plain": [
              "{0: [0.36, 0.39, 0.37, 51.0],\n",
              " 1: [0.53, 0.46, 0.49, 35.0],\n",
              " 2: [0.54, 0.68, 0.6, 68.0],\n",
              " 3: [0.39, 0.45, 0.42, 67.0],\n",
              " 4: [0.0, 0.0, 0.0, 5.0],\n",
              " 5: [0.17, 0.12, 0.14, 8.0],\n",
              " 6: [0.39, 0.32, 0.35, 22.0],\n",
              " 7: [0.31, 0.18, 0.23, 22.0],\n",
              " 8: [0.0, 0.0, 0.0, 4.0],\n",
              " 9: [0.0, 0.0, 0.0, 3.0],\n",
              " 10: [0.0, 0.0, 0.0, 2.0],\n",
              " 11: [0.0, 0.0, 0.0, 2.0],\n",
              " 'accuracy': [0.43],\n",
              " ' macro avg': [0.22, 0.22, 0.22],\n",
              " 'weighted avg': [0.4, 0.43, 0.41]}"
            ]
          },
          "execution_count": 362,
          "metadata": {},
          "output_type": "execute_result"
        }
      ],
      "source": [
        "dict_scores4['XGBoost'][(1,1)][19]"
      ]
    },
    {
      "cell_type": "markdown",
      "metadata": {
        "id": "C85F84u_PhK2"
      },
      "source": [
        "### BERT"
      ]
    },
    {
      "cell_type": "code",
      "execution_count": null,
      "metadata": {
        "id": "Jp_sC4aCOin7"
      },
      "outputs": [],
      "source": [
        "dict_final4, dict_std4, dict_scores4 = model_bert(sc4_df, states, 20, augmentation=False, pseudolabelling=False)"
      ]
    },
    {
      "cell_type": "code",
      "execution_count": null,
      "metadata": {
        "colab": {
          "base_uri": "https://localhost:8080/"
        },
        "id": "fT__EAJ13fE8",
        "outputId": "56df5014-59cd-444c-cd8a-f3801f185738"
      },
      "outputs": [
        {
          "data": {
            "text/plain": [
              "{0: [0.02, 0.1, 0.04],\n",
              " 1: [0.05, 0.2, 0.08],\n",
              " 2: [0.05, 0.2, 0.08],\n",
              " 3: [0.06, 0.25, 0.1],\n",
              " 4: [0.01, 0.05, 0.02],\n",
              " 5: [0.01, 0.05, 0.02],\n",
              " 6: [0.02, 0.1, 0.04],\n",
              " 7: [0.01, 0.05, 0.02],\n",
              " 8: [0.0, 0.0, 0.0],\n",
              " 9: [0.0, 0.0, 0.0],\n",
              " 10: [0.0, 0.0, 0.0],\n",
              " 11: [0.0, 0.0, 0.0],\n",
              " 'accuracy': [0.24],\n",
              " ' macro avg': [0.02, 0.08, 0.03],\n",
              " 'weighted avg': [0.06, 0.24, 0.09]}"
            ]
          },
          "execution_count": 56,
          "metadata": {},
          "output_type": "execute_result"
        }
      ],
      "source": [
        "dict_final4"
      ]
    },
    {
      "cell_type": "code",
      "execution_count": null,
      "metadata": {
        "colab": {
          "base_uri": "https://localhost:8080/"
        },
        "id": "0H6QrfPQHBH3",
        "outputId": "c2bab3ab-697c-4e1e-b29c-a65bec1749c1"
      },
      "outputs": [
        {
          "data": {
            "text/plain": [
              "{0: [0.07, 0.3, 0.11],\n",
              " 1: [0.09, 0.4, 0.15],\n",
              " 2: [0.1, 0.4, 0.15],\n",
              " 3: [0.1, 0.43, 0.16],\n",
              " 4: [0.05, 0.22, 0.08],\n",
              " 5: [0.05, 0.22, 0.08],\n",
              " 6: [0.07, 0.3, 0.11],\n",
              " 7: [0.05, 0.22, 0.08],\n",
              " 8: [0.0, 0.0, 0.0],\n",
              " 9: [0.0, 0.0, 0.0],\n",
              " 10: [0.0, 0.0, 0.0],\n",
              " 11: [0.0, 0.0, 0.0],\n",
              " 'accuracy': [0.0],\n",
              " ' macro avg': [0.0, 0.0, 0.0],\n",
              " 'weighted avg': [0.0, 0.0, 0.0]}"
            ]
          },
          "execution_count": 55,
          "metadata": {},
          "output_type": "execute_result"
        }
      ],
      "source": [
        "dict_std4"
      ]
    },
    {
      "cell_type": "code",
      "execution_count": null,
      "metadata": {
        "colab": {
          "background_save": true
        },
        "id": "rFapUzJbDBxb"
      },
      "outputs": [],
      "source": [
        "for m in metrics:\n",
        "  n = 'Pseudolabelling'\n",
        "  id_m = metrics.index(m)\n",
        "  t = table_visualization(dict_avg, dict_std, n, id_m)\n",
        "\n",
        "  title = f'Eksperimen 1 - Input 4 - BERT - {m} - {n} Oversampling'\n",
        "  t.to_csv(f'{title}.csv')\n",
        "\n",
        "  a = convert_to_latex(t, title, n, m)"
      ]
    },
    {
      "cell_type": "code",
      "execution_count": null,
      "metadata": {
        "id": "bZ-XgvLZCmc7"
      },
      "outputs": [],
      "source": [
        "files = open(f'Eksperimen 1 - Input 4 - BERT - Oversampling - Pseudolabelling.txt', 'w')\n",
        "res = \"dict_avg = \" + str(dict_final4) + \"\\ndict_std = \" + str(dict_std4) + \"\\ndict_scores = \" + str(dict_scores4)\n",
        "y = files.write(res)\n",
        "files.close()"
      ]
    }
  ],
  "metadata": {
    "accelerator": "GPU",
    "colab": {
      "collapsed_sections": [
        "NhKFhT60DD9c",
        "4vOV_db1C4QS",
        "wqFZ0xNRDIrB",
        "glCZDuRdDK4T",
        "pN0Andmzrdpr",
        "evf0NkIcDcXZ",
        "1thnRLAhxV6K",
        "p7KzzSJVVtsZ",
        "CC-mgQrkBogk",
        "BZJahGs-Bpqs",
        "aGIqv_M-Clf0",
        "n2r2YkMrPKD7",
        "Ig3huYMRPOr2",
        "Q55eYx9YPXXu"
      ],
      "provenance": []
    },
    "gpuClass": "standard",
    "kernelspec": {
      "display_name": "Python 3",
      "name": "python3"
    },
    "language_info": {
      "name": "python"
    }
  },
  "nbformat": 4,
  "nbformat_minor": 0
}